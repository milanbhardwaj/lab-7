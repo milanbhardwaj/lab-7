{
 "cells": [
  {
   "cell_type": "markdown",
   "metadata": {},
   "source": [
    "### Dataset"
   ]
  },
  {
   "cell_type": "code",
   "execution_count": 1,
   "metadata": {},
   "outputs": [],
   "source": [
    "import pandas as pd\n",
    "\n",
    "data = pd.read_csv('abcnews-date-text.csv', error_bad_lines=False);\n",
    "data_text = data[['headline_text']]\n",
    "data_text['index'] = data_text.index\n",
    "documents = data_text"
   ]
  },
  {
   "cell_type": "markdown",
   "metadata": {},
   "source": [
    "### Pre-Proccessing"
   ]
  },
  {
   "cell_type": "code",
   "execution_count": 2,
   "metadata": {},
   "outputs": [],
   "source": [
    "\n",
    "from gensim.utils import simple_preprocess\n",
    "from gensim.parsing.preprocessing import STOPWORDS\n",
    "from nltk.stem import WordNetLemmatizer\n",
    "from nltk.stem.porter import *\n",
    "import numpy as np\n",
    "np.random.seed(2018)"
   ]
  },
  {
   "cell_type": "code",
   "execution_count": null,
   "metadata": {},
   "outputs": [],
   "source": [
    "import nltk\n",
    "nltk.download('wordnet')"
   ]
  },
  {
   "cell_type": "code",
   "execution_count": 3,
   "metadata": {},
   "outputs": [],
   "source": [
    "# not stemming as it will not provide valid results\n",
    "#lemmatizing\n",
    "#removing stopwords and words with len<3\n",
    "def lemmatize_stemming(text):\n",
    "    return WordNetLemmatizer().lemmatize(text, pos='v')\n",
    "\n",
    "def preprocess(text):\n",
    "    result = []\n",
    "    for token in gensim.utils.simple_preprocess(text):\n",
    "        if token not in gensim.parsing.preprocessing.STOPWORDS and len(token) > 3:\n",
    "            result.append(lemmatize_stemming(token))\n",
    "    return result"
   ]
  },
  {
   "cell_type": "code",
   "execution_count": 4,
   "metadata": {},
   "outputs": [
    {
     "data": {
      "text/plain": [
       "0              [decide, community, broadcast, licence]\n",
       "1                         [witness, aware, defamation]\n",
       "2           [call, infrastructure, protection, summit]\n",
       "3                          [staff, aust, strike, rise]\n",
       "4             [strike, affect, australian, travellers]\n",
       "5               [ambitious, olsson, win, triple, jump]\n",
       "6               [antic, delight, record, break, barca]\n",
       "7    [aussie, qualifier, stosur, waste, memphis, ma...\n",
       "8             [aust, address, security, council, iraq]\n",
       "9                         [australia, lock, timetable]\n",
       "Name: headline_text, dtype: object"
      ]
     },
     "execution_count": 4,
     "metadata": {},
     "output_type": "execute_result"
    }
   ],
   "source": [
    "import gensim\n",
    "processed_docs = documents['headline_text'].map(preprocess)\n",
    "processed_docs[:10]"
   ]
  },
  {
   "cell_type": "code",
   "execution_count": 5,
   "metadata": {},
   "outputs": [],
   "source": [
    "dictionary = gensim.corpora.Dictionary(processed_docs)"
   ]
  },
  {
   "cell_type": "code",
   "execution_count": 6,
   "metadata": {},
   "outputs": [],
   "source": [
    "dictionary.filter_extremes(no_below=15, no_above=0.5, keep_n=100000)\n",
    "bow_corpus = [dictionary.doc2bow(doc) for doc in processed_docs]"
   ]
  },
  {
   "cell_type": "code",
   "execution_count": 7,
   "metadata": {},
   "outputs": [
    {
     "name": "stdout",
     "output_type": "stream",
     "text": [
      "[(0, 0.5918674193999763),\n",
      " (1, 0.3937180767686992),\n",
      " (2, 0.5009876624450964),\n",
      " (3, 0.49365007440105513)]\n"
     ]
    }
   ],
   "source": [
    "from gensim import corpora, models\n",
    "\n",
    "tfidf = models.TfidfModel(bow_corpus)\n",
    "corpus_tfidf = tfidf[bow_corpus]\n",
    "from pprint import pprint\n",
    "for doc in corpus_tfidf:\n",
    "    pprint(doc)\n",
    "    break"
   ]
  },
  {
   "cell_type": "code",
   "execution_count": 8,
   "metadata": {},
   "outputs": [],
   "source": [
    "# training lda model\n",
    "lda_model = gensim.models.LdaMulticore(bow_corpus, num_topics=10, id2word=dictionary, passes=2, workers=2)"
   ]
  },
  {
   "cell_type": "code",
   "execution_count": 9,
   "metadata": {},
   "outputs": [
    {
     "name": "stdout",
     "output_type": "stream",
     "text": [
      "Topic: 0 \n",
      "Words: 0.059*\"australia\" + 0.025*\"australian\" + 0.023*\"china\" + 0.020*\"sydney\" + 0.020*\"world\" + 0.020*\"coronavirus\" + 0.018*\"open\" + 0.015*\"border\" + 0.012*\"win\" + 0.012*\"women\"\n",
      "Topic: 1 \n",
      "Words: 0.023*\"market\" + 0.020*\"record\" + 0.015*\"year\" + 0.013*\"lose\" + 0.012*\"care\" + 0.012*\"price\" + 0.012*\"years\" + 0.011*\"business\" + 0.011*\"australian\" + 0.010*\"age\"\n",
      "Topic: 2 \n",
      "Words: 0.053*\"coronavirus\" + 0.030*\"government\" + 0.021*\"covid\" + 0.015*\"rise\" + 0.015*\"restrictions\" + 0.014*\"water\" + 0.013*\"royal\" + 0.013*\"scott\" + 0.012*\"tasmanian\" + 0.011*\"concern\"\n",
      "Topic: 3 \n",
      "Words: 0.027*\"kill\" + 0.022*\"die\" + 0.019*\"coast\" + 0.018*\"shoot\" + 0.017*\"miss\" + 0.017*\"crash\" + 0.015*\"attack\" + 0.015*\"gold\" + 0.014*\"dead\" + 0.013*\"island\"\n",
      "Topic: 4 \n",
      "Words: 0.040*\"police\" + 0.026*\"charge\" + 0.026*\"case\" + 0.025*\"court\" + 0.020*\"death\" + 0.020*\"murder\" + 0.017*\"face\" + 0.013*\"jail\" + 0.013*\"people\" + 0.012*\"arrest\"\n",
      "Topic: 5 \n",
      "Words: 0.054*\"trump\" + 0.026*\"test\" + 0.020*\"tasmania\" + 0.014*\"morrison\" + 0.013*\"drum\" + 0.011*\"premier\" + 0.011*\"save\" + 0.010*\"race\" + 0.009*\"park\" + 0.009*\"free\"\n",
      "Topic: 6 \n",
      "Words: 0.047*\"say\" + 0.028*\"victoria\" + 0.021*\"health\" + 0.018*\"change\" + 0.018*\"adelaide\" + 0.017*\"canberra\" + 0.014*\"indigenous\" + 0.011*\"covid\" + 0.010*\"rural\" + 0.010*\"service\"\n",
      "Topic: 7 \n",
      "Words: 0.031*\"queensland\" + 0.028*\"election\" + 0.022*\"live\" + 0.013*\"federal\" + 0.013*\"work\" + 0.012*\"school\" + 0.011*\"council\" + 0.010*\"farm\" + 0.010*\"plan\" + 0.009*\"labor\"\n",
      "Topic: 8 \n",
      "Words: 0.016*\"speak\" + 0.015*\"final\" + 0.013*\"bushfire\" + 0.013*\"beat\" + 0.013*\"flood\" + 0.013*\"street\" + 0.012*\"storm\" + 0.012*\"wall\" + 0.012*\"season\" + 0.011*\"john\"\n",
      "Topic: 9 \n",
      "Words: 0.027*\"donald\" + 0.025*\"south\" + 0.024*\"news\" + 0.018*\"north\" + 0.016*\"perth\" + 0.015*\"time\" + 0.014*\"victorian\" + 0.013*\"return\" + 0.013*\"interview\" + 0.012*\"west\"\n"
     ]
    }
   ],
   "source": [
    "for idx, topic in lda_model.print_topics(-1):\n",
    "    print('Topic: {} \\nWords: {}'.format(idx, topic))"
   ]
  },
  {
   "cell_type": "code",
   "execution_count": 15,
   "metadata": {},
   "outputs": [],
   "source": [
    "lda_model_tfidf = gensim.models.LdaMulticore(corpus_tfidf, num_topics=10, id2word=dictionary, passes=2, workers=4)"
   ]
  },
  {
   "cell_type": "code",
   "execution_count": 11,
   "metadata": {},
   "outputs": [
    {
     "name": "stdout",
     "output_type": "stream",
     "text": [
      "Topic: 0 Word: 0.031*\"coronavirus\" + 0.027*\"covid\" + 0.012*\"market\" + 0.009*\"australia\" + 0.009*\"victoria\" + 0.008*\"scott\" + 0.008*\"case\" + 0.008*\"australian\" + 0.007*\"record\" + 0.006*\"share\"\n",
      "Topic: 1 Word: 0.009*\"street\" + 0.008*\"violence\" + 0.006*\"domestic\" + 0.006*\"energy\" + 0.006*\"food\" + 0.006*\"outback\" + 0.005*\"rat\" + 0.005*\"rail\" + 0.005*\"andrews\" + 0.005*\"ash\"\n",
      "Topic: 2 Word: 0.016*\"rural\" + 0.014*\"news\" + 0.010*\"health\" + 0.010*\"royal\" + 0.009*\"live\" + 0.009*\"commission\" + 0.008*\"national\" + 0.007*\"finance\" + 0.007*\"david\" + 0.006*\"mental\"\n",
      "Topic: 3 Word: 0.021*\"trump\" + 0.018*\"police\" + 0.015*\"charge\" + 0.012*\"murder\" + 0.012*\"crash\" + 0.011*\"woman\" + 0.010*\"court\" + 0.009*\"shoot\" + 0.009*\"death\" + 0.009*\"kill\"\n",
      "Topic: 4 Word: 0.016*\"country\" + 0.011*\"hour\" + 0.007*\"turnbull\" + 0.007*\"korea\" + 0.006*\"north\" + 0.006*\"prison\" + 0.006*\"action\" + 0.005*\"morning\" + 0.005*\"malcolm\" + 0.005*\"syria\"\n",
      "Topic: 5 Word: 0.019*\"donald\" + 0.009*\"friday\" + 0.009*\"government\" + 0.009*\"climate\" + 0.009*\"weather\" + 0.009*\"drought\" + 0.007*\"change\" + 0.007*\"rain\" + 0.007*\"tasmania\" + 0.006*\"coronavirus\"\n",
      "Topic: 6 Word: 0.010*\"morrison\" + 0.009*\"wednesday\" + 0.008*\"sport\" + 0.007*\"final\" + 0.006*\"social\" + 0.006*\"history\" + 0.006*\"league\" + 0.006*\"grand\" + 0.005*\"rugby\" + 0.005*\"film\"\n",
      "Topic: 7 Word: 0.015*\"drum\" + 0.009*\"tuesday\" + 0.009*\"australia\" + 0.008*\"pandemic\" + 0.007*\"coronavirus\" + 0.006*\"stories\" + 0.006*\"june\" + 0.006*\"quiz\" + 0.005*\"andrew\" + 0.005*\"spring\"\n",
      "Topic: 8 Word: 0.014*\"interview\" + 0.012*\"restrictions\" + 0.008*\"john\" + 0.008*\"michael\" + 0.008*\"age\" + 0.007*\"peter\" + 0.007*\"brief\" + 0.006*\"care\" + 0.006*\"extend\" + 0.006*\"july\"\n",
      "Topic: 9 Word: 0.012*\"election\" + 0.011*\"queensland\" + 0.010*\"coronavirus\" + 0.008*\"thursday\" + 0.008*\"update\" + 0.005*\"biden\" + 0.005*\"western\" + 0.005*\"october\" + 0.005*\"april\" + 0.005*\"dairy\"\n"
     ]
    }
   ],
   "source": [
    "for idx, topic in lda_model_tfidf.print_topics(-1):\n",
    "    print('Topic: {} Word: {}'.format(idx, topic))"
   ]
  },
  {
   "cell_type": "markdown",
   "metadata": {},
   "source": [
    "### Testing both the models"
   ]
  },
  {
   "cell_type": "code",
   "execution_count": null,
   "metadata": {},
   "outputs": [],
   "source": [
    "# Bag Of Words\n",
    "# Compute Perplexity\n",
    "from gensim.models.coherencemodel import CoherenceModel\n",
    "print('\\nPerplexity: ', lda_model.log_perplexity(bow_corpus))  # a measure of how good the model is. lower the better.\n",
    "\n",
    "# Compute Coherence Score\n",
    "coherence_model_lda = CoherenceModel(model=lda_model, texts=processed_docs, dictionary=dictionary, coherence='c_v')\n",
    "coherence_lda = coherence_model_lda.get_coherence()\n",
    "print('\\nCoherence Score: ', coherence_lda)"
   ]
  },
  {
   "cell_type": "code",
   "execution_count": null,
   "metadata": {},
   "outputs": [],
   "source": [
    "# TFIDF\n",
    "# Compute Perplexity\n",
    "from gensim.models.coherencemodel import CoherenceModel\n",
    "print('\\nPerplexity: ', lda_model_tfidf.log_perplexity(bow_corpus))  # a measure of how good the model is. lower the better.\n",
    "\n",
    "# Compute Coherence Score\n",
    "coherence_model_lda = CoherenceModel(model=lda_model_tfidf, texts=processed_docs, dictionary=dictionary, coherence='c_v')\n",
    "coherence_lda = coherence_model_lda.get_coherence()\n",
    "print('\\nCoherence Score: ', coherence_lda)"
   ]
  },
  {
   "cell_type": "code",
   "execution_count": 14,
   "metadata": {},
   "outputs": [],
   "source": [
    "#since tdidf has more coherence score therefore it is more effective than bow"
   ]
  },
  {
   "cell_type": "code",
   "execution_count": null,
   "metadata": {},
   "outputs": [],
   "source": []
  },
  {
   "cell_type": "code",
   "execution_count": null,
   "metadata": {},
   "outputs": [],
   "source": []
  }
 ],
 "metadata": {
  "kernelspec": {
   "display_name": "Python 3",
   "language": "python",
   "name": "python3"
  },
  "language_info": {
   "codemirror_mode": {
    "name": "ipython",
    "version": 3
   },
   "file_extension": ".py",
   "mimetype": "text/x-python",
   "name": "python",
   "nbconvert_exporter": "python",
   "pygments_lexer": "ipython3",
   "version": "3.7.4"
  }
 },
 "nbformat": 4,
 "nbformat_minor": 4
}
